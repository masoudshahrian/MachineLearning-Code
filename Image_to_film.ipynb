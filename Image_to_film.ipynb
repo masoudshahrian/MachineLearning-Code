{
  "nbformat": 4,
  "nbformat_minor": 0,
  "metadata": {
    "colab": {
      "provenance": [],
      "mount_file_id": "1eFRbgpMbU1Wlz57q4z6FDlsR4Z7xBcHW",
      "authorship_tag": "ABX9TyO9hXJSnttbpAq81/kfxbH9",
      "include_colab_link": true
    },
    "kernelspec": {
      "name": "python3",
      "display_name": "Python 3"
    },
    "language_info": {
      "name": "python"
    }
  },
  "cells": [
    {
      "cell_type": "markdown",
      "metadata": {
        "id": "view-in-github",
        "colab_type": "text"
      },
      "source": [
        "<a href=\"https://colab.research.google.com/github/masoudshahrian/MachineLearning-Code/blob/master/Image_to_film.ipynb\" target=\"_parent\"><img src=\"https://colab.research.google.com/assets/colab-badge.svg\" alt=\"Open In Colab\"/></a>"
      ]
    },
    {
      "cell_type": "code",
      "source": [],
      "metadata": {
        "id": "jHvJ52_FmXWj"
      },
      "execution_count": null,
      "outputs": []
    },
    {
      "cell_type": "code",
      "source": [
        "pip install opencv-python numpy"
      ],
      "metadata": {
        "colab": {
          "base_uri": "https://localhost:8080/"
        },
        "id": "kxA4OJcVmYKr",
        "outputId": "c502574a-acd0-49c4-f214-7cfb0aadb363"
      },
      "execution_count": 1,
      "outputs": [
        {
          "output_type": "stream",
          "name": "stdout",
          "text": [
            "Requirement already satisfied: opencv-python in /usr/local/lib/python3.11/dist-packages (4.11.0.86)\n",
            "Requirement already satisfied: numpy in /usr/local/lib/python3.11/dist-packages (1.26.4)\n"
          ]
        }
      ]
    },
    {
      "cell_type": "code",
      "source": [
        "import cv2\n",
        "import numpy as np\n",
        "\n",
        "# مسیر عکس را مشخص کنید\n",
        "image_path = '/content/my_Image.jpg'  # جایگزین با مسیر عکس خود\n",
        "\n",
        "# عکس را بارگذاری کنید\n",
        "image = cv2.imread(image_path)\n",
        "\n",
        "# ابعاد ویدئو را تنظیم کنید (ابعاد عکس باید به این ابعاد تغییر کند)\n",
        "height, width, layers = image.shape\n",
        "size = (width, height)\n",
        "\n",
        "# تنظیمات ویدئو\n",
        "fourcc = cv2.VideoWriter_fourcc(*'mp4v')  # نوع ویدئو (می‌توانید 'XVID' یا 'MJPG' نیز استفاده کنید)\n",
        "fps = 10  # فریم در ثانیه\n",
        "duration = 10  # مدت زمان ویدئو به ثانیه\n",
        "out = cv2.VideoWriter('output_video.mp4', fourcc, fps, size)\n",
        "\n",
        "# تعداد فریم‌ها\n",
        "num_frames = fps * duration\n",
        "\n",
        "# افزودن فریم‌ها به ویدئو\n",
        "for i in range(num_frames):\n",
        "    out.write(image)\n",
        "\n",
        "# آزاد کردن منابع\n",
        "out.release()\n",
        "\n",
        "print(\"ویدئو با موفقیت ایجاد شد!\")"
      ],
      "metadata": {
        "colab": {
          "base_uri": "https://localhost:8080/"
        },
        "id": "1B9YtFlCmYHT",
        "outputId": "fbf25e64-b888-4d9d-b130-83db36143806"
      },
      "execution_count": 2,
      "outputs": [
        {
          "output_type": "stream",
          "name": "stdout",
          "text": [
            "ویدئو با موفقیت ایجاد شد!\n"
          ]
        }
      ]
    },
    {
      "cell_type": "code",
      "source": [],
      "metadata": {
        "id": "TozrqQtjmYD7"
      },
      "execution_count": 2,
      "outputs": []
    },
    {
      "cell_type": "code",
      "execution_count": 2,
      "metadata": {
        "id": "yLccaWEsl_42"
      },
      "outputs": [],
      "source": []
    }
  ]
}