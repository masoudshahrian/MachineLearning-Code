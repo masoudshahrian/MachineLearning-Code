{
  "nbformat": 4,
  "nbformat_minor": 0,
  "metadata": {
    "colab": {
      "provenance": [],
      "gpuType": "T4",
      "mount_file_id": "1enVq3ROQsxa9KGyyC7iYpKqKnWHU9OtF",
      "authorship_tag": "ABX9TyPf4DVI9KG5IvuqzNmT8Q0V",
      "include_colab_link": true
    },
    "kernelspec": {
      "name": "python3",
      "display_name": "Python 3"
    },
    "language_info": {
      "name": "python"
    },
    "accelerator": "GPU"
  },
  "cells": [
    {
      "cell_type": "markdown",
      "metadata": {
        "id": "view-in-github",
        "colab_type": "text"
      },
      "source": [
        "<a href=\"https://colab.research.google.com/github/masoudshahrian/MachineLearning-Code/blob/master/Image_Clustring_using_GPC_Q_learning.ipynb\" target=\"_parent\"><img src=\"https://colab.research.google.com/assets/colab-badge.svg\" alt=\"Open In Colab\"/></a>"
      ]
    },
    {
      "cell_type": "code",
      "source": [
        "import numpy as np\n",
        "import cv2\n",
        "from sklearn.cluster import KMeans\n",
        "import random\n"
      ],
      "metadata": {
        "id": "roq8BEhUGQJ_"
      },
      "execution_count": 1,
      "outputs": []
    },
    {
      "cell_type": "code",
      "source": [
        "from google.colab.patches import cv2_imshow"
      ],
      "metadata": {
        "id": "0lMwswtvHt4-"
      },
      "execution_count": 2,
      "outputs": []
    },
    {
      "cell_type": "code",
      "execution_count": 3,
      "metadata": {
        "colab": {
          "base_uri": "https://localhost:8080/"
        },
        "id": "e-iskxXeGMjE",
        "outputId": "bf48f3e1-8e48-44b8-feb3-bc437b4520f8"
      },
      "outputs": [
        {
          "output_type": "execute_result",
          "data": {
            "text/plain": [
              "True"
            ]
          },
          "metadata": {},
          "execution_count": 3
        }
      ],
      "source": [
        "class QLearningGPC:\n",
        "    def __init__(self, n_clusters=3, alpha=0.1, gamma=0.9, epsilon=0.1):\n",
        "        self.n_clusters = n_clusters\n",
        "        self.alpha = alpha\n",
        "        self.gamma = gamma\n",
        "        self.epsilon = epsilon\n",
        "        self.q_table = np.zeros((n_clusters, n_clusters))\n",
        "\n",
        "    def select_action(self, state):\n",
        "        if random.uniform(0, 1) < self.epsilon:\n",
        "            return random.randint(0, self.n_clusters - 1)\n",
        "        else:\n",
        "            return np.argmax(self.q_table[state])\n",
        "\n",
        "    def update_q_table(self, state, action, reward, next_state):\n",
        "        best_next_action = np.argmax(self.q_table[next_state])\n",
        "        self.q_table[state, action] += self.alpha * (reward + self.gamma * self.q_table[next_state, best_next_action] - self.q_table[state, action])\n",
        "\n",
        "    def fit(self, image):\n",
        "        img_reshape = image.reshape((-1, 3))\n",
        "        kmeans = KMeans(n_clusters=self.n_clusters).fit(img_reshape)\n",
        "        labels = kmeans.labels_\n",
        "\n",
        "        for _ in range(100):\n",
        "            for i in range(len(labels)):\n",
        "                state = labels[i]\n",
        "                action = self.select_action(state)\n",
        "                reward = -np.linalg.norm(img_reshape[i] - kmeans.cluster_centers_[action])\n",
        "                next_state = action\n",
        "                self.update_q_table(state, action, reward, next_state)\n",
        "\n",
        "        for i in range(len(labels)):\n",
        "            labels[i] = self.select_action(labels[i])\n",
        "\n",
        "        segmented_image = np.zeros_like(img_reshape)\n",
        "        for i in range(len(labels)):\n",
        "            segmented_image[i] = kmeans.cluster_centers_[labels[i]]\n",
        "\n",
        "        return segmented_image.reshape(image.shape)\n",
        "\n",
        "# Load an example image\n",
        "image = cv2.imread('/content/4.jpg')\n",
        "image = cv2.cvtColor(image, cv2.COLOR_BGR2RGB)\n",
        "\n",
        "# Apply QLearningGPC\n",
        "qlearning_gpc = QLearningGPC(n_clusters=3)\n",
        "segmented_image = qlearning_gpc.fit(image)\n",
        "\n",
        "# Save and display results\n",
        "cv2.imwrite('segmented_image.jpg', cv2.cvtColor(segmented_image.astype(np.uint8), cv2.COLOR_RGB2BGR))\n",
        "# cv2_imshow('Segmented Image',segmented_image.astype(np.uint8))\n"
      ]
    }
  ]
}