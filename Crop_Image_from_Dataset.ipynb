{
  "nbformat": 4,
  "nbformat_minor": 0,
  "metadata": {
    "colab": {
      "provenance": [],
      "mount_file_id": "1qWx9A_Hd8Zfr4YUc2LLcQyNnEo3pk7Cv",
      "authorship_tag": "ABX9TyPcv4NcEDksXiMZKsayKCcZ",
      "include_colab_link": true
    },
    "kernelspec": {
      "name": "python3",
      "display_name": "Python 3"
    },
    "language_info": {
      "name": "python"
    }
  },
  "cells": [
    {
      "cell_type": "markdown",
      "metadata": {
        "id": "view-in-github",
        "colab_type": "text"
      },
      "source": [
        "<a href=\"https://colab.research.google.com/github/masoudshahrian/MachineLearning-Code/blob/master/Crop_Image_from_Dataset.ipynb\" target=\"_parent\"><img src=\"https://colab.research.google.com/assets/colab-badge.svg\" alt=\"Open In Colab\"/></a>"
      ]
    },
    {
      "cell_type": "code",
      "source": [
        "import cv2\n",
        "import dlib\n",
        "import os"
      ],
      "metadata": {
        "id": "ZW3zk97M7cd3"
      },
      "execution_count": 1,
      "outputs": []
    },
    {
      "cell_type": "code",
      "execution_count": 3,
      "metadata": {
        "colab": {
          "base_uri": "https://localhost:8080/"
        },
        "id": "VqXFIcD-bqdQ",
        "outputId": "19a77c0a-1091-43ee-9e6a-a24f4985484f"
      },
      "outputs": [
        {
          "output_type": "stream",
          "name": "stdout",
          "text": [
            "تمامی تصاویر با موفقیت کراپ و ذخیره شدند.\n"
          ]
        }
      ],
      "source": [
        "\n",
        "\n",
        "# مسیر به دایرکتوری تصاویر CelebA\n",
        "input_dir = '/content/drive/MyDrive/kaggle-celebA/img_align_celeba/img_align_celeba/'  # مسیر دایرکتوری تصاویر\n",
        "output_dir = '/content/drive/MyDrive/Image/CelebA_Image_Croped/'  # مسیر دایرکتوری خروجی\n",
        "\n",
        "# ایجاد دایرکتوری خروجی در صورت عدم وجود\n",
        "os.makedirs(output_dir, exist_ok=True)\n",
        "\n",
        "# بارگذاری مدل شناسایی صورت\n",
        "detector = dlib.get_frontal_face_detector()\n",
        "\n",
        "# لیست کردن تصاویر در دایرکتوری ورودی\n",
        "for filename in os.listdir(input_dir):\n",
        "    if filename.endswith('.jpg') or filename.endswith('.png'):\n",
        "        # بارگذاری تصویر\n",
        "        image_path = os.path.join(input_dir, filename)\n",
        "        image = cv2.imread(image_path)\n",
        "\n",
        "        # تبدیل تصویر به خاکستری\n",
        "        gray = cv2.cvtColor(image, cv2.COLOR_BGR2GRAY)\n",
        "\n",
        "        # شناسایی صورت‌ها\n",
        "        faces = detector(gray)\n",
        "\n",
        "        # پردازش هر صورت شناسایی شده\n",
        "        for face in faces:\n",
        "            # استخراج مختصات صورت\n",
        "            x, y, w, h = (face.left(), face.top(), face.width(), face.height())\n",
        "\n",
        "            # محاسبه مرکز صورت\n",
        "            center_x = x + w // 2\n",
        "            center_y = y + h // 2\n",
        "\n",
        "            # محاسبه مختصات جدید برای کراپ\n",
        "            crop_x1 = max(center_x - 64, 0)\n",
        "            crop_x2 = min(center_x + 64, image.shape[1])\n",
        "            crop_y1 = max(center_y - 64, 0)\n",
        "            crop_y2 = min(center_y + 64, image.shape[0])\n",
        "\n",
        "            # کراپ کردن تصویر\n",
        "            cropped_image = image[crop_y1:crop_y2, crop_x1:crop_x2]\n",
        "\n",
        "            # تغییر اندازه به 128x128\n",
        "            resized_image = cv2.resize(cropped_image, (128, 128))\n",
        "\n",
        "            # ذخیره تصویر کراپ شده\n",
        "            output_path = os.path.join(output_dir, filename)\n",
        "            cv2.imwrite(output_path, resized_image)\n",
        "\n",
        "print(\"تمامی تصاویر با موفقیت کراپ و ذخیره شدند.\")\n",
        "\n",
        "\n",
        "\n",
        "\n"
      ]
    }
  ]
}