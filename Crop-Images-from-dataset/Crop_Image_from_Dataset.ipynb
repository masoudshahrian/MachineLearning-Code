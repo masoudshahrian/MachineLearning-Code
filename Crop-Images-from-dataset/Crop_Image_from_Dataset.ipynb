{
  "cells": [
    {
      "cell_type": "markdown",
      "metadata": {
        "colab_type": "text",
        "id": "view-in-github"
      },
      "source": [
        "<a href=\"https://colab.research.google.com/github/masoudshahrian/MachineLearning-Code/blob/master/Crop_Image_from_Dataset.ipynb\" target=\"_parent\"><img src=\"https://colab.research.google.com/assets/colab-badge.svg\" alt=\"Open In Colab\"/></a>"
      ]
    },
    {
      "cell_type": "code",
      "execution_count": 1,
      "metadata": {
        "id": "ZW3zk97M7cd3"
      },
      "outputs": [],
      "source": [
        "import cv2\n",
        "import dlib\n",
        "import os"
      ]
    },
    {
      "cell_type": "code",
      "execution_count": null,
      "metadata": {
        "colab": {
          "base_uri": "https://localhost:8080/"
        },
        "id": "VqXFIcD-bqdQ",
        "outputId": "19a77c0a-1091-43ee-9e6a-a24f4985484f"
      },
      "outputs": [
        {
          "name": "stdout",
          "output_type": "stream",
          "text": [
            "تمامی تصاویر با موفقیت کراپ و ذخیره شدند.\n"
          ]
        }
      ],
      "source": [
        "\n",
        "\n",
        "# Path to CelebA images directory\n",
        "input_dir = '/content/drive/MyDrive/kaggle-celebA/img_align_celeba/img_align_celeba/'  # Input images directory path\n",
        "output_dir = '/content/drive/MyDrive/Image/CelebA_Image_Croped/'  # Output directory path\n",
        "\n",
        "# Create output directory if it doesn't exist\n",
        "os.makedirs(output_dir, exist_ok=True)\n",
        "\n",
        "# Load face detection model\n",
        "detector = dlib.get_frontal_face_detector()\n",
        "\n",
        "# List images in the input directory\n",
        "for filename in os.listdir(input_dir):\n",
        "    if filename.endswith('.jpg') or filename.endswith('.png'):\n",
        "        # Load image\n",
        "        image_path = os.path.join(input_dir, filename)\n",
        "        image = cv2.imread(image_path)\n",
        "\n",
        "        # Convert image to grayscale\n",
        "        gray = cv2.cvtColor(image, cv2.COLOR_BGR2GRAY)\n",
        "\n",
        "        # Detect faces\n",
        "        faces = detector(gray)\n",
        "\n",
        "        # Process each detected face\n",
        "        for face in faces:\n",
        "            # Extract face coordinates\n",
        "            x, y, w, h = (face.left(), face.top(), face.width(), face.height())\n",
        "\n",
        "            # Calculate face center\n",
        "            center_x = x + w // 2\n",
        "            center_y = y + h // 2\n",
        "\n",
        "            # Calculate new coordinates for cropping\n",
        "            crop_x1 = max(center_x - 64, 0)\n",
        "            crop_x2 = min(center_x + 64, image.shape[1])\n",
        "            crop_y1 = max(center_y - 64, 0)\n",
        "            crop_y2 = min(center_y + 64, image.shape[0])\n",
        "\n",
        "            # Crop the image\n",
        "            cropped_image = image[crop_y1:crop_y2, crop_x1:crop_x2]\n",
        "\n",
        "            # Resize to 128x128\n",
        "            resized_image = cv2.resize(cropped_image, (128, 128))\n",
        "\n",
        "            # Save the cropped image\n",
        "            output_path = os.path.join(output_dir, filename)\n",
        "            cv2.imwrite(output_path, resized_image)\n",
        "\n",
        "print(\"All images have been successfully cropped and saved.\")\n",
        "\n",
        "\n",
        "\n",
        "\n"
      ]
    }
  ],
  "metadata": {
    "colab": {
      "authorship_tag": "ABX9TyPcv4NcEDksXiMZKsayKCcZ",
      "include_colab_link": true,
      "mount_file_id": "1qWx9A_Hd8Zfr4YUc2LLcQyNnEo3pk7Cv",
      "provenance": []
    },
    "kernelspec": {
      "display_name": "Python 3",
      "name": "python3"
    },
    "language_info": {
      "name": "python"
    }
  },
  "nbformat": 4,
  "nbformat_minor": 0
}
