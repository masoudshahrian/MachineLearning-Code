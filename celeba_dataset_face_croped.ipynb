{
  "metadata": {
    "kernelspec": {
      "language": "python",
      "display_name": "Python 3",
      "name": "python3"
    },
    "language_info": {
      "pygments_lexer": "ipython3",
      "nbconvert_exporter": "python",
      "version": "3.6.4",
      "file_extension": ".py",
      "codemirror_mode": {
        "name": "ipython",
        "version": 3
      },
      "name": "python",
      "mimetype": "text/x-python"
    },
    "kaggle": {
      "accelerator": "none",
      "dataSources": [
        {
          "sourceId": 37705,
          "sourceType": "datasetVersion",
          "datasetId": 29561
        }
      ],
      "isInternetEnabled": true,
      "language": "python",
      "sourceType": "notebook",
      "isGpuEnabled": false
    },
    "colab": {
      "provenance": [],
      "include_colab_link": true
    }
  },
  "nbformat_minor": 0,
  "nbformat": 4,
  "cells": [
    {
      "cell_type": "markdown",
      "metadata": {
        "id": "view-in-github",
        "colab_type": "text"
      },
      "source": [
        "<a href=\"https://colab.research.google.com/github/masoudshahrian/MachineLearning-Code/blob/master/celeba_dataset_face_croped.ipynb\" target=\"_parent\"><img src=\"https://colab.research.google.com/assets/colab-badge.svg\" alt=\"Open In Colab\"/></a>"
      ]
    },
    {
      "source": [
        "# IMPORTANT: RUN THIS CELL IN ORDER TO IMPORT YOUR KAGGLE DATA SOURCES,\n",
        "# THEN FEEL FREE TO DELETE THIS CELL.\n",
        "# NOTE: THIS NOTEBOOK ENVIRONMENT DIFFERS FROM KAGGLE'S PYTHON\n",
        "# ENVIRONMENT SO THERE MAY BE MISSING LIBRARIES USED BY YOUR\n",
        "# NOTEBOOK.\n",
        "import kagglehub\n",
        "jessicali9530_celeba_dataset_path = kagglehub.dataset_download('jessicali9530/celeba-dataset')\n",
        "\n",
        "print('Data source import complete.')\n"
      ],
      "metadata": {
        "id": "nW8T2OlPS23i"
      },
      "cell_type": "code",
      "outputs": [],
      "execution_count": null
    },
    {
      "cell_type": "code",
      "source": [
        "# # This Python 3 environment comes with many helpful analytics libraries installed\n",
        "# # It is defined by the kaggle/python Docker image: https://github.com/kaggle/docker-python\n",
        "# # For example, here's several helpful packages to load\n",
        "\n",
        "# import numpy as np # linear algebra\n",
        "# import pandas as pd # data processing, CSV file I/O (e.g. pd.read_csv)\n",
        "\n",
        "# # Input data files are available in the read-only \"../input/\" directory\n",
        "# # For example, running this (by clicking run or pressing Shift+Enter) will list all files under the input directory\n",
        "\n",
        "# import os\n",
        "# for dirname, _, filenames in os.walk('/kaggle/input'):\n",
        "#     for filename in filenames:\n",
        "#         print(os.path.join(dirname, filename))\n",
        "\n",
        "# # You can write up to 20GB to the current directory (/kaggle/working/) that gets preserved as output when you create a version using \"Save & Run All\"\n",
        "# # You can also write temporary files to /kaggle/temp/, but they won't be saved outside of the current session"
      ],
      "metadata": {
        "_uuid": "8f2839f25d086af736a60e9eeb907d3b93b6e0e5",
        "_cell_guid": "b1076dfc-b9ad-4769-8c92-a6c4dae69d19",
        "trusted": true,
        "id": "eSYs8S5MS23m"
      },
      "outputs": [],
      "execution_count": null
    },
    {
      "cell_type": "code",
      "source": [
        "!pip install dlib"
      ],
      "metadata": {
        "trusted": true,
        "id": "bTkl19pJS23n"
      },
      "outputs": [],
      "execution_count": null
    },
    {
      "cell_type": "code",
      "source": [
        "import cv2\n",
        "import dlib\n",
        "import os\n",
        "\n",
        "# Path to the CelebA images directory\n",
        "input_dir = '/kaggle/input/celeba-dataset/img_align_celeba/img_align_celeba/'  # Path to the images directory\n",
        "output_dir_128 = '/kaggle/working/img_align_celeba/CelebA_Image_Cropped_128/'  # Path to the output directory for 128x128 images\n",
        "output_dir_64 = '/kaggle/working/img_align_celeba/CelebA_Image_Cropped_64/'  # Path to the output directory for 64x64 images\n",
        "\n",
        "# Create output directories if they do not exist\n",
        "os.makedirs(output_dir_128, exist_ok=True)\n",
        "os.makedirs(output_dir_64, exist_ok=True)\n",
        "\n",
        "# Load the face detection model\n",
        "detector = dlib.get_frontal_face_detector()\n",
        "\n",
        "# List images in the input directory\n",
        "image_count = 0  # Counter for the number of processed images\n",
        "\n",
        "for filename in os.listdir(input_dir):\n",
        "    if filename.endswith('.jpg') or filename.endswith('.png'):\n",
        "        # Load the image\n",
        "        image_path = os.path.join(input_dir, filename)\n",
        "        image = cv2.imread(image_path)\n",
        "\n",
        "        # Convert the image to grayscale\n",
        "        gray = cv2.cvtColor(image, cv2.COLOR_BGR2GRAY)\n",
        "\n",
        "        # Detect faces\n",
        "        faces = detector(gray)\n",
        "\n",
        "        # Process each detected face\n",
        "        for face in faces:\n",
        "            # Extract face coordinates\n",
        "            x, y, w, h = (face.left(), face.top(), face.width(), face.height())\n",
        "\n",
        "            # Calculate the center of the face\n",
        "            center_x = x + w // 2\n",
        "            center_y = y + h // 2\n",
        "\n",
        "            # Calculate new coordinates for cropping\n",
        "            crop_x1 = max(center_x - 64, 0)\n",
        "            crop_x2 = min(center_x + 64, image.shape[1])\n",
        "            crop_y1 = max(center_y - 64, 0)\n",
        "            crop_y2 = min(center_y + 64, image.shape[0])\n",
        "\n",
        "            # Crop the image\n",
        "            cropped_image = image[crop_y1:crop_y2, crop_x1:crop_x2]\n",
        "\n",
        "            # Resize to 128x128\n",
        "            resized_image_128 = cv2.resize(cropped_image, (128, 128))\n",
        "            # Save the cropped image with dimensions 128x128\n",
        "            output_path_128 = os.path.join(output_dir_128, f'cropped_128_{image_count}.jpg')\n",
        "            cv2.imwrite(output_path_128, resized_image_128)\n",
        "\n",
        "            # Resize to 64x64\n",
        "            resized_image_64 = cv2.resize(cropped_image, (64, 64))\n",
        "            # Save the cropped image with dimensions 64x64\n",
        "            output_path_64 = os.path.join(output_dir_64, f'cropped_64_{image_count}.jpg')\n",
        "            cv2.imwrite(output_path_64, resized_image_64)\n",
        "\n",
        "            image_count += 1  # Increment the counter\n",
        "\n",
        "print(f\"All {image_count} images have been successfully cropped and saved.\")"
      ],
      "metadata": {
        "trusted": true,
        "id": "126soy8fS23n"
      },
      "outputs": [],
      "execution_count": null
    }
  ]
}