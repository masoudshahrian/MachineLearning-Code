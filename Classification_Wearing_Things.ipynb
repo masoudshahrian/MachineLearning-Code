{
  "nbformat": 4,
  "nbformat_minor": 0,
  "metadata": {
    "colab": {
      "provenance": [],
      "authorship_tag": "ABX9TyM4B7yPVfiQXartJQJKu53W",
      "include_colab_link": true
    },
    "kernelspec": {
      "name": "python3",
      "display_name": "Python 3"
    },
    "language_info": {
      "name": "python"
    }
  },
  "cells": [
    {
      "cell_type": "markdown",
      "metadata": {
        "id": "view-in-github",
        "colab_type": "text"
      },
      "source": [
        "<a href=\"https://colab.research.google.com/github/masoudshahrian/MachineLearning-Code/blob/master/Classification_Wearing_Things.ipynb\" target=\"_parent\"><img src=\"https://colab.research.google.com/assets/colab-badge.svg\" alt=\"Open In Colab\"/></a>"
      ]
    },
    {
      "cell_type": "code",
      "execution_count": null,
      "metadata": {
        "id": "1y_J6ZtCj6a2"
      },
      "outputs": [],
      "source": [
        "import tensorflow as tf\n",
        "from tensorflow import keras as ks\n",
        "import numpy as np\n",
        "import datetime"
      ]
    },
    {
      "cell_type": "code",
      "source": [
        "(train_data,train_labels),(test_data,test_labels) =ks.datasets.fashion_mnist.load_data()"
      ],
      "metadata": {
        "id": "oXyKEDMSkAdF",
        "colab": {
          "base_uri": "https://localhost:8080/"
        },
        "outputId": "b252a8e0-4ba1-4a81-face-8010829442a0"
      },
      "execution_count": null,
      "outputs": [
        {
          "output_type": "stream",
          "name": "stdout",
          "text": [
            "Downloading data from https://storage.googleapis.com/tensorflow/tf-keras-datasets/train-labels-idx1-ubyte.gz\n",
            "29515/29515 [==============================] - 0s 0us/step\n",
            "Downloading data from https://storage.googleapis.com/tensorflow/tf-keras-datasets/train-images-idx3-ubyte.gz\n",
            "26421880/26421880 [==============================] - 0s 0us/step\n",
            "Downloading data from https://storage.googleapis.com/tensorflow/tf-keras-datasets/t10k-labels-idx1-ubyte.gz\n",
            "5148/5148 [==============================] - 0s 0us/step\n",
            "Downloading data from https://storage.googleapis.com/tensorflow/tf-keras-datasets/t10k-images-idx3-ubyte.gz\n",
            "4422102/4422102 [==============================] - 0s 0us/step\n"
          ]
        }
      ]
    },
    {
      "cell_type": "code",
      "source": [
        "train_data = train_data / 255.0 # Normalizing Data\n",
        "test_data = test_data / 255.0"
      ],
      "metadata": {
        "id": "gD0nmoMskGIp"
      },
      "execution_count": null,
      "outputs": []
    },
    {
      "cell_type": "code",
      "source": [
        "input_data_shape = (28,28) # Size of Data"
      ],
      "metadata": {
        "id": "HqtHuZpykPFf"
      },
      "execution_count": null,
      "outputs": []
    },
    {
      "cell_type": "code",
      "source": [
        "nn_model = ks.models.Sequential() #| Models are sequential\n",
        "\n",
        "nn_model.add(ks.layers.Flatten(input_shape=input_data_shape)) # First layer with Flatten matrix to row\n",
        "\n",
        "nn_model.add(ks.layers.Dense(32,activation='relu')) # Hidden layer with fully connected conections\n",
        "nn_model.add(ks.layers.Dense(10,activation='softmax'))  # Ending layer with 10 layers for output\n",
        "\n",
        "nn_model.compile(optimizer='adam',loss='sparse_categorical_crossentropy',metrics=['accuracy'])  # Learnin process\n",
        "\n",
        "# log_dir = \"logs/fit/\" + datetime.datetime.now().strftime(\"%Y%m%d-%H%M%S\")\n",
        "# tensorboard_callback = tf.keras.callbacks.TensorBoard(log_dir=log_dir,histogram_freq=1)\n",
        "# nn_model.fit(train_data,train_labels,epochs=10,callbacks=[tensorboard_callback])\n",
        "\n",
        "nn_model.fit(train_data,train_labels,epochs=10) # Learning Function\n",
        "\n",
        "testdata_loss,testdata_accuracy=nn_model.evaluate(test_data,test_labels)  # Evaluation on MODEL\n",
        "print('Test Data Accuracy {}'.format(round(float(testdata_accuracy),2)))"
      ],
      "metadata": {
        "id": "uWN-roaukRhy",
        "colab": {
          "base_uri": "https://localhost:8080/"
        },
        "outputId": "64944d39-6f82-47f0-c4fc-d56d24601364"
      },
      "execution_count": null,
      "outputs": [
        {
          "output_type": "stream",
          "name": "stdout",
          "text": [
            "Epoch 1/10\n",
            "1875/1875 [==============================] - 4s 2ms/step - loss: 0.5454 - accuracy: 0.8108\n",
            "Epoch 2/10\n",
            "1875/1875 [==============================] - 4s 2ms/step - loss: 0.4145 - accuracy: 0.8543\n",
            "Epoch 3/10\n",
            "1875/1875 [==============================] - 4s 2ms/step - loss: 0.3845 - accuracy: 0.8634\n",
            "Epoch 4/10\n",
            "1875/1875 [==============================] - 3s 2ms/step - loss: 0.3625 - accuracy: 0.8710\n",
            "Epoch 5/10\n",
            "1875/1875 [==============================] - 4s 2ms/step - loss: 0.3474 - accuracy: 0.8753\n",
            "Epoch 6/10\n",
            "1875/1875 [==============================] - 5s 2ms/step - loss: 0.3335 - accuracy: 0.8805\n",
            "Epoch 7/10\n",
            "1875/1875 [==============================] - 4s 2ms/step - loss: 0.3217 - accuracy: 0.8845\n",
            "Epoch 8/10\n",
            "1875/1875 [==============================] - 3s 2ms/step - loss: 0.3146 - accuracy: 0.8857\n",
            "Epoch 9/10\n",
            "1875/1875 [==============================] - 4s 2ms/step - loss: 0.3074 - accuracy: 0.8886\n",
            "Epoch 10/10\n",
            "1875/1875 [==============================] - 4s 2ms/step - loss: 0.2994 - accuracy: 0.8913\n",
            "313/313 [==============================] - 1s 2ms/step - loss: 0.3727 - accuracy: 0.8683\n",
            "Test Data Accuracy 0.87\n"
          ]
        }
      ]
    },
    {
      "cell_type": "code",
      "source": [],
      "metadata": {
        "id": "LonMYTZxkY6q"
      },
      "execution_count": null,
      "outputs": []
    }
  ]
}